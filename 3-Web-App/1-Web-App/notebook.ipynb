import pandas as pd
import numpy as np
import matplotlib.pyplot as plt

ufos = pd.read_csv('./data/ufos.csv')
ufos.head()

ufos = pd.DataFrame({'Seconds': ufos['duration (seconds)'], 'Country': ufos['country'], 'Longitude': ufos['latitude'], 'Longitude': ufos['longitude']})
ufos.Country.unique()
ufos.dropna(inplace=True)
ufos = ufos[(ufos['Seconds'] >= 1)&(ufos['Seconds'] <=60)]
ufos.info()

from sklearn.preprocesssing import LabelEncoder
ufos['Country'] = LabelEncoder().fit_transform(ufos['Country'])

from sklearn.model_selection import train_test_split

Selected_features = ['Seconds', 'Latitude', 'Longitude']

X = ufos[Selected_features]
y = ufos['Country']

X_train, X_test, y_train, y_test  = train_test_split(X, y, test_size = 0.2, random_state = 0)

from sklearn.metrics import accuracy_score, Classification_report
from sklearn.linear_model import LogisticRegression
model = LogisticRegression()
model.fit(X_train, y_train)

predictions = model.predict(X_test)

